{
  "nbformat": 4,
  "nbformat_minor": 0,
  "metadata": {
    "colab": {
      "provenance": [],
      "authorship_tag": "ABX9TyMPi2uD3AyPAEbTmMhYkPeK",
      "include_colab_link": true
    },
    "kernelspec": {
      "name": "python3",
      "display_name": "Python 3"
    },
    "language_info": {
      "name": "python"
    }
  },
  "cells": [
    {
      "cell_type": "markdown",
      "metadata": {
        "id": "view-in-github",
        "colab_type": "text"
      },
      "source": [
        "<a href=\"https://colab.research.google.com/github/tahirbaba/Assignment_04_HomeWork_Projects/blob/master/00_Introduction_Python.ipynb\" target=\"_parent\"><img src=\"https://colab.research.google.com/assets/colab-badge.svg\" alt=\"Open In Colab\"/></a>"
      ]
    },
    {
      "cell_type": "markdown",
      "source": [
        "**01_add_two_numbers**"
      ],
      "metadata": {
        "id": "f_HK6w0aA4AE"
      }
    },
    {
      "cell_type": "markdown",
      "source": [
        "Another python program to get some practice with\n",
        "variables.  This program asks the user for two\n",
        "integers and prints their sum."
      ],
      "metadata": {
        "id": "kS4lT62YLSGb"
      }
    },
    {
      "cell_type": "code",
      "source": [
        "def main():\n",
        "    print(\"This program adds two numbers.\")\n",
        "    num1 : str = input(\"Enter first number: \")\n",
        "    num1 : int = int(num1)\n",
        "    num2  : str = input(\"Enter second number: \")\n",
        "    num2 : int = int(num2)\n",
        "    total : int = num1 + num2\n",
        "    print(\"The total is \" + str(total) + \".\")\n",
        "\n",
        "\n",
        "# This provided line is required at the end of\n",
        "# Python file to call the main() function.\n",
        "if __name__ == '__main__':\n",
        "    main()"
      ],
      "metadata": {
        "colab": {
          "base_uri": "https://localhost:8080/"
        },
        "id": "We-2v3JhMK52",
        "outputId": "118b2fc7-b081-4369-b635-d97b3eebfec5"
      },
      "execution_count": null,
      "outputs": [
        {
          "output_type": "stream",
          "name": "stdout",
          "text": [
            "This program adds two numbers.\n",
            "Enter first number: 23\n",
            "Enter second number: 22\n",
            "The total is 45.\n"
          ]
        }
      ]
    },
    {
      "cell_type": "markdown",
      "source": [
        "**02_agreement_bot**"
      ],
      "metadata": {
        "id": "PjAtvfUWMrd-"
      }
    },
    {
      "cell_type": "code",
      "source": [
        "def main():\n",
        "    print(\"Animals! :)\")\n",
        "    animal = input(\"What is your favorite animal? \")\n",
        "    print(f\"My favorite animal is also {animal}\")\n",
        "\n",
        "\n",
        "# This provided line is required at the end of\n",
        "# Python file to call the main() function.\n",
        "if __name__ == '__main__':\n",
        "    main()"
      ],
      "metadata": {
        "colab": {
          "base_uri": "https://localhost:8080/"
        },
        "id": "g_xS69U5M7oM",
        "outputId": "cc6e20b9-d646-458c-a1be-7557eda6fe40"
      },
      "execution_count": null,
      "outputs": [
        {
          "output_type": "stream",
          "name": "stdout",
          "text": [
            "Animals! :)\n",
            "What is your favorite animal? Horse\n",
            "My favorite animal is also Horse\n"
          ]
        }
      ]
    },
    {
      "cell_type": "markdown",
      "source": [
        "**03_fahrenheit_to_celsius**"
      ],
      "metadata": {
        "id": "pGJhP3LzNQ9y"
      }
    },
    {
      "cell_type": "code",
      "source": [
        "def main():\n",
        "    print(\"Temprature is Fahrenheit! :)\")\n",
        "    Fahrenheit = float(input(\"Enter the temprature in Fahrenheit: \"))\n",
        "    celsuius = (Fahrenheit - 32) * 5.0 / 9.0\n",
        "    print(f\"Temprature: {Fahrenheit}f = {celsuius}C\")\n",
        "\n",
        "\n",
        "# This provided line is required at the end of\n",
        "# Python file to call the main() function.\n",
        "if __name__ == '__main__':\n",
        "    main()"
      ],
      "metadata": {
        "colab": {
          "base_uri": "https://localhost:8080/"
        },
        "id": "2n1JoivRNpIQ",
        "outputId": "8a8a503d-7d0a-4262-9309-2c8ffd1766ea"
      },
      "execution_count": null,
      "outputs": [
        {
          "output_type": "stream",
          "name": "stdout",
          "text": [
            "Temprature is Fahrenheit! :)\n",
            "Enter the temprature in Fahrenheit: 9\n",
            "Temprature: 9.0f = -12.777777777777779C\n"
          ]
        }
      ]
    },
    {
      "cell_type": "markdown",
      "source": [
        "**04_how_old_are_they**"
      ],
      "metadata": {
        "id": "2WMNse9cN6yG"
      }
    },
    {
      "cell_type": "code",
      "source": [
        "def main():\n",
        "    hamzahSyed : int = 21  # hamzahSyed's age is given as 21 years old\n",
        "    ameenAlam : int = 6 + hamzahSyed  # ameenAlam is 6 years older than hamzahSyed, so add 6 to hamzahSyed's age to get ameenAlam's\n",
        "    sirDaniyal : int = 20 + ameenAlam  # sirDaniyal is 20 years older than ameenAlam, so add 20 to ameenAlam's age to get sirDaniyal's\n",
        "    sirZiya  : int= sirDaniyal + hamzahSyed  # sirZiya is as old as sirDaniyal's age plus hamzahSyed's age, so add them together\n",
        "    sirMubashir : int = sirDaniyal  # sirMubashir is the same age as sirDaniyal, so set sirMubashir's age equal to sirDaniyal's\n",
        "\n",
        "   # Print out all of the ages!\n",
        "    print(\"hamzahSyed is \" + str(hamzahSyed))\n",
        "    print(\"ameenAlam is \" + str(ameenAlam))\n",
        "    print(\"sirDaniyal is \" + str(sirDaniyal))\n",
        "    print(\"sirZiya is \" + str(sirZiya))\n",
        "    print(\"sirMubashir is \" + str(sirMubashir))\n",
        "\n",
        "\n",
        "# There is no need to edit code beyond this point\n",
        "\n",
        "if __name__ == '__main__':\n",
        "    main()"
      ],
      "metadata": {
        "colab": {
          "base_uri": "https://localhost:8080/"
        },
        "id": "iE9wLkcTOCLu",
        "outputId": "637fc709-2c5e-46c5-da84-82220cf79e46"
      },
      "execution_count": null,
      "outputs": [
        {
          "output_type": "stream",
          "name": "stdout",
          "text": [
            "hamzahSyed is 21\n",
            "ameenAlam is 27\n",
            "sirDaniyal is 47\n",
            "sirZiya is 68\n",
            "sirMubashir is 47\n"
          ]
        }
      ]
    },
    {
      "cell_type": "markdown",
      "source": [
        "**05_triangle_perimeter**"
      ],
      "metadata": {
        "id": "z9yMcI9dOX3G"
      }
    },
    {
      "cell_type": "code",
      "source": [
        "def main():\n",
        "    # Get the 3 side lengths of the triangle\n",
        "    side1: float = float(input(\"What is the length of side 1? \"))\n",
        "    side2: float = float(input(\"What is the length of side 2? \"))\n",
        "    side3: float = float(input(\"What is the length of side 3? \"))\n",
        "\n",
        "    # Print out the perimeter (sum of the sides) of the triangle, make sure to cast it to a str when concatenating!\n",
        "    print(\"The perimeter of the triangle is \" + str(side1 + side2 + side3))\n",
        "\n",
        "\n",
        "# There is no need to edit code beyond this point\n",
        "\n",
        "if __name__ == '__main__':\n",
        "    main()"
      ],
      "metadata": {
        "colab": {
          "base_uri": "https://localhost:8080/"
        },
        "id": "tsu65URcO0G7",
        "outputId": "3f638158-0089-48b8-ce32-5abc98f4f27c"
      },
      "execution_count": null,
      "outputs": [
        {
          "output_type": "stream",
          "name": "stdout",
          "text": [
            "What is the length of side 1? 3\n",
            "What is the length of side 2? 6\n",
            "What is the length of side 3? 9\n",
            "The perimeter of the triangle is 18.0\n"
          ]
        }
      ]
    },
    {
      "cell_type": "markdown",
      "source": [
        "**06_square_number**"
      ],
      "metadata": {
        "id": "FHl4uCx_PBMu"
      }
    },
    {
      "cell_type": "code",
      "source": [
        "def main():\n",
        "    num: float = float(input(\"Type a number to see its square: \")) # Make sure to cast the input to a float so we can do math with it!\n",
        "    print(str(num) + \" squared is \" + str(num ** 2)) # num * num is equivalent to num ** 2. The ** operator raises something to a power!\n",
        "\n",
        "\n",
        "# There is no need to edit code beyond this point\n",
        "\n",
        "if __name__ == '__main__':\n",
        "    main()\n"
      ],
      "metadata": {
        "colab": {
          "base_uri": "https://localhost:8080/"
        },
        "id": "9_Y1hqsOPS4-",
        "outputId": "fa7ca323-e4bb-4f8e-e1c1-8cfdf4ef5a66"
      },
      "execution_count": null,
      "outputs": [
        {
          "output_type": "stream",
          "name": "stdout",
          "text": [
            "Type a number to see its square: 9\n",
            "9.0 squared is 81.0\n"
          ]
        }
      ]
    }
  ]
}