{
  "nbformat": 4,
  "nbformat_minor": 0,
  "metadata": {
    "colab": {
      "provenance": [],
      "authorship_tag": "ABX9TyP6IWaPQs836A+E0MrkkSHq",
      "include_colab_link": true
    },
    "kernelspec": {
      "name": "python3",
      "display_name": "Python 3"
    },
    "language_info": {
      "name": "python"
    }
  },
  "cells": [
    {
      "cell_type": "markdown",
      "metadata": {
        "id": "view-in-github",
        "colab_type": "text"
      },
      "source": [
        "<a href=\"https://colab.research.google.com/github/tahirbaba/Assignment_04_HomeWork_Projects/blob/master/online_class_projects_02_intermediate.ipynb\" target=\"_parent\"><img src=\"https://colab.research.google.com/assets/colab-badge.svg\" alt=\"Open In Colab\"/></a>"
      ]
    },
    {
      "cell_type": "markdown",
      "source": [
        "# **Control Flow for Console**"
      ],
      "metadata": {
        "id": "hi6Yt_9m23wO"
      }
    },
    {
      "cell_type": "markdown",
      "source": [
        "handout"
      ],
      "metadata": {
        "id": "IagOysYhFlyw"
      }
    },
    {
      "cell_type": "code",
      "source": [
        "import random\n",
        "\n",
        "def high_low_game(num_rounds=5):\n",
        "    while True:\n",
        "        print(\"Welcome to the High-Low Game!\")\n",
        "        print(\"-\" * 40)\n",
        "\n",
        "        score = 0\n",
        "\n",
        "        for round_num in range(1, num_rounds + 1):\n",
        "            print(f\"Round {round_num}\")\n",
        "\n",
        "            user_number = random.randint(1, 100)\n",
        "            computer_number = random.randint(1, 100)\n",
        "\n",
        "            print(f\"Your number is {user_number}\")\n",
        "\n",
        "            while True:\n",
        "                guess = input(\"Do you think your number is higher or lower than the computer's? (higher/lower): \").strip().lower()\n",
        "                if guess in [\"higher\", \"lower\"]:\n",
        "                    break\n",
        "                print(\"Please enter either 'higher' or 'lower'.\")\n",
        "\n",
        "            if (guess == \"higher\" and user_number > computer_number) or (guess == \"lower\" and user_number < computer_number):\n",
        "                print(\"You were right!\", end=\" \")\n",
        "                score += 1\n",
        "            else:\n",
        "                print(\"Aww, that's incorrect.\", end=\" \")\n",
        "\n",
        "            print(f\"The computer's number was {computer_number}\")\n",
        "            print(f\"Your score is now {score}\\n\")\n",
        "\n",
        "        print(\"Thanks for playing!\")\n",
        "\n",
        "        if score == num_rounds:\n",
        "            print(\"Wow! You played perfectly!\")\n",
        "        elif score >= num_rounds // 2:\n",
        "            print(\"Good job, you played really well!\")\n",
        "        else:\n",
        "            print(\"Better luck next time!\")\n",
        "\n",
        "        play_again = input(\"Do you want to play again? (yes/no): \").strip().lower()\n",
        "        if play_again != \"yes\":\n",
        "            print(\"Goodbye! Thanks for playing!\")\n",
        "            break\n",
        "\n",
        "# Run the game\n",
        "high_low_game()\n"
      ],
      "metadata": {
        "colab": {
          "base_uri": "https://localhost:8080/"
        },
        "id": "RXScxQgDGdKb",
        "outputId": "fcec7f24-1142-47d1-a2d3-4981c03f7e57"
      },
      "execution_count": 2,
      "outputs": [
        {
          "output_type": "stream",
          "name": "stdout",
          "text": [
            "Welcome to the High-Low Game!\n",
            "----------------------------------------\n",
            "Round 1\n",
            "Your number is 86\n",
            "Do you think your number is higher or lower than the computer's? (higher/lower): lower\n",
            "Aww, that's incorrect. The computer's number was 47\n",
            "Your score is now 0\n",
            "\n",
            "Round 2\n",
            "Your number is 36\n",
            "Do you think your number is higher or lower than the computer's? (higher/lower): higher\n",
            "You were right! The computer's number was 32\n",
            "Your score is now 1\n",
            "\n",
            "Round 3\n",
            "Your number is 1\n",
            "Do you think your number is higher or lower than the computer's? (higher/lower): lower\n",
            "You were right! The computer's number was 43\n",
            "Your score is now 2\n",
            "\n",
            "Round 4\n",
            "Your number is 37\n",
            "Do you think your number is higher or lower than the computer's? (higher/lower): higher\n",
            "You were right! The computer's number was 18\n",
            "Your score is now 3\n",
            "\n",
            "Round 5\n",
            "Your number is 13\n",
            "Do you think your number is higher or lower than the computer's? (higher/lower): higher\n",
            "Aww, that's incorrect. The computer's number was 96\n",
            "Your score is now 3\n",
            "\n",
            "Thanks for playing!\n",
            "Good job, you played really well!\n",
            "Do you want to play again? (yes/no): no\n",
            "Goodbye! Thanks for playing!\n"
          ]
        }
      ]
    },
    {
      "cell_type": "markdown",
      "source": [
        "**solution**"
      ],
      "metadata": {
        "id": "1eVwAXbTlBNN"
      }
    },
    {
      "cell_type": "code",
      "source": [
        "import random\n",
        "\n",
        "NUM_ROUNDS = 5\n",
        "\n",
        "def main():\n",
        "    print(\"Welcome to the High-Low Game!\")\n",
        "    print('--------------------------------')\n",
        "\n",
        "    # Milestone 5: keep track of your score\n",
        "    your_score = 0\n",
        "\n",
        "    # Milestone 4: Play multiple rounds\n",
        "    for i in range(NUM_ROUNDS):\n",
        "        print(\"Round\", i + 1)\n",
        "        # Milestone 1: Generate the random numbers and print them out\n",
        "        computer_num: int = random.randint(1, 100)\n",
        "        your_num: int = random.randint(1, 100)\n",
        "        print(\"Your number is\", your_num)\n",
        "\n",
        "        # Milestone 2: Get user input for their choice\n",
        "        choice: str = input(\"Do you think your number is higher or lower than the computer's?: \")\n",
        "\n",
        "        # Milestone 3: Map out all the ways to win the round\n",
        "        higher_and_correct: bool = choice == \"higher\" and your_num > computer_num\n",
        "        lower_and_correct: bool = choice == \"lower\" and your_num < computer_num\n",
        "\n",
        "        if higher_and_correct or lower_and_correct:\n",
        "            print(\"You were right! The computer's number was\", computer_num)\n",
        "            # Milestone 5: keep track of your score\n",
        "            your_score += 1\n",
        "        else:\n",
        "            print(\"Aww, that's incorrect. The computer's number was\", computer_num)\n",
        "\n",
        "        # Milestone 5: keep track of your score\n",
        "        print(\"Your score is now\", your_score)\n",
        "        print()\n",
        "\n",
        "    print(\"Thanks for playing!\")\n",
        "\n",
        "if __name__ == \"__main__\":\n",
        "    main()\n"
      ],
      "metadata": {
        "colab": {
          "base_uri": "https://localhost:8080/"
        },
        "id": "WepdloWQmMGB",
        "outputId": "5b112daa-4298-4b2d-b262-8b20d9052ccf"
      },
      "execution_count": 4,
      "outputs": [
        {
          "output_type": "stream",
          "name": "stdout",
          "text": [
            "Welcome to the High-Low Game!\n",
            "--------------------------------\n",
            "Round 1\n",
            "Your number is 53\n",
            "Do you think your number is higher or lower than the computer's?: higher\n",
            "You were right! The computer's number was 30\n",
            "Your score is now 1\n",
            "\n",
            "Round 2\n",
            "Your number is 68\n",
            "Do you think your number is higher or lower than the computer's?: lowe\n",
            "Aww, that's incorrect. The computer's number was 28\n",
            "Your score is now 1\n",
            "\n",
            "Round 3\n",
            "Your number is 99\n",
            "Do you think your number is higher or lower than the computer's?: higher\n",
            "You were right! The computer's number was 31\n",
            "Your score is now 2\n",
            "\n",
            "Round 4\n",
            "Your number is 58\n",
            "Do you think your number is higher or lower than the computer's?: higher\n",
            "Aww, that's incorrect. The computer's number was 59\n",
            "Your score is now 2\n",
            "\n",
            "Round 5\n",
            "Your number is 98\n",
            "Do you think your number is higher or lower than the computer's?: higher\n",
            "You were right! The computer's number was 65\n",
            "Your score is now 3\n",
            "\n",
            "Thanks for playing!\n"
          ]
        }
      ]
    },
    {
      "cell_type": "markdown",
      "source": [
        "**starter_code**"
      ],
      "metadata": {
        "id": "kX1wWctOnLhm"
      }
    },
    {
      "cell_type": "code",
      "source": [
        "import random\n",
        "\n",
        "def high_low_game(num_rounds=5):\n",
        "    while True:\n",
        "        print(\"Welcome to the High-Low Game!\")\n",
        "        print(\"-\" * 40)\n",
        "\n",
        "        score = 0\n",
        "\n",
        "        for round_num in range(1, num_rounds + 1):\n",
        "            print(f\"Round {round_num}\")\n",
        "\n",
        "            user_number = random.randint(1, 100)\n",
        "            computer_number = random.randint(1, 100)\n",
        "\n",
        "            print(f\"Your number is {user_number}\")\n",
        "\n",
        "            while True:\n",
        "                guess = input(\"What’s your guess? Is your number greater or smaller than the computer’s? (higher/lower): \").strip().lower()\n",
        "                if guess in [\"higher\", \"lower\"]:\n",
        "                    break\n",
        "                print(\"Please enter either 'higher' or 'lower'.\")\n",
        "\n",
        "            if (guess == \"higher\" and user_number > computer_number) or (guess == \"lower\" and user_number < computer_number):\n",
        "                print(\"You were right!\", end=\" \")\n",
        "                score += 1\n",
        "            else:\n",
        "                print(\"Aww, that's incorrect.\", end=\" \")\n",
        "\n",
        "            print(f\"The computer's number was {computer_number}\")\n",
        "            print(f\"Your score is now {score}\\n\")\n",
        "\n",
        "        print(\"Thanks for playing!\")\n",
        "\n",
        "        if score == num_rounds:\n",
        "            print(\"Wow! You played perfectly!\")\n",
        "        elif score >= num_rounds // 2:\n",
        "            print(\"Good job, you played really well!\")\n",
        "        else:\n",
        "            print(\"Better luck next time!\")\n",
        "\n",
        "        play_again = input(\"Do you want to play again? (yes/no): \").strip().lower()\n",
        "        if play_again != \"yes\":\n",
        "            print(\"Goodbye! Thanks for playing!\")\n",
        "            break\n",
        "\n",
        "# Run the game\n",
        "high_low_game()\n"
      ],
      "metadata": {
        "id": "971vwvEBqcoT",
        "outputId": "cf491255-7fb5-40ba-9c6c-45d8b1dc9b7a",
        "colab": {
          "base_uri": "https://localhost:8080/"
        }
      },
      "execution_count": 6,
      "outputs": [
        {
          "output_type": "stream",
          "name": "stdout",
          "text": [
            "Welcome to the High-Low Game!\n",
            "----------------------------------------\n",
            "Round 1\n",
            "Your number is 57\n",
            "What’s your guess? Is your number greater or smaller than the computer’s? (higher/lower): higher\n",
            "You were right! The computer's number was 2\n",
            "Your score is now 1\n",
            "\n",
            "Round 2\n",
            "Your number is 7\n",
            "What’s your guess? Is your number greater or smaller than the computer’s? (higher/lower): higher\n",
            "Aww, that's incorrect. The computer's number was 88\n",
            "Your score is now 1\n",
            "\n",
            "Round 3\n",
            "Your number is 1\n",
            "What’s your guess? Is your number greater or smaller than the computer’s? (higher/lower): lower\n",
            "You were right! The computer's number was 53\n",
            "Your score is now 2\n",
            "\n",
            "Round 4\n",
            "Your number is 35\n",
            "What’s your guess? Is your number greater or smaller than the computer’s? (higher/lower): higher\n",
            "Aww, that's incorrect. The computer's number was 71\n",
            "Your score is now 2\n",
            "\n",
            "Round 5\n",
            "Your number is 23\n",
            "What’s your guess? Is your number greater or smaller than the computer’s? (higher/lower): lower\n",
            "You were right! The computer's number was 57\n",
            "Your score is now 3\n",
            "\n",
            "Thanks for playing!\n",
            "Good job, you played really well!\n",
            "Do you want to play again? (yes/no): no\n",
            "Goodbye! Thanks for playing!\n"
          ]
        }
      ]
    }
  ]
}