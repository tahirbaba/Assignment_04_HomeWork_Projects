{
  "nbformat": 4,
  "nbformat_minor": 0,
  "metadata": {
    "colab": {
      "provenance": [],
      "authorship_tag": "ABX9TyO4eb6OjfJ+NsYr/lE9v9rq",
      "include_colab_link": true
    },
    "kernelspec": {
      "name": "python3",
      "display_name": "Python 3"
    },
    "language_info": {
      "name": "python"
    }
  },
  "cells": [
    {
      "cell_type": "markdown",
      "metadata": {
        "id": "view-in-github",
        "colab_type": "text"
      },
      "source": [
        "<a href=\"https://colab.research.google.com/github/tahirbaba/Assignment_04_HomeWork_Projects/blob/master/online_class_projects_02_intermediate.ipynb\" target=\"_parent\"><img src=\"https://colab.research.google.com/assets/colab-badge.svg\" alt=\"Open In Colab\"/></a>"
      ]
    },
    {
      "cell_type": "markdown",
      "source": [
        "# **Control Flow for Console**"
      ],
      "metadata": {
        "id": "hi6Yt_9m23wO"
      }
    },
    {
      "cell_type": "markdown",
      "source": [
        "handout"
      ],
      "metadata": {
        "id": "IagOysYhFlyw"
      }
    },
    {
      "cell_type": "code",
      "source": [
        "import random\n",
        "\n",
        "def high_low_game(num_rounds=5):\n",
        "    while True:\n",
        "        print(\"Welcome to the High-Low Game!\")\n",
        "        print(\"-\" * 40)\n",
        "\n",
        "        score = 0\n",
        "\n",
        "        for round_num in range(1, num_rounds + 1):\n",
        "            print(f\"Round {round_num}\")\n",
        "\n",
        "            user_number = random.randint(1, 100)\n",
        "            computer_number = random.randint(1, 100)\n",
        "\n",
        "            print(f\"Your number is {user_number}\")\n",
        "\n",
        "            while True:\n",
        "                guess = input(\"Do you think your number is higher or lower than the computer's? (higher/lower): \").strip().lower()\n",
        "                if guess in [\"higher\", \"lower\"]:\n",
        "                    break\n",
        "                print(\"Please enter either 'higher' or 'lower'.\")\n",
        "\n",
        "            if (guess == \"higher\" and user_number > computer_number) or (guess == \"lower\" and user_number < computer_number):\n",
        "                print(\"You were right!\", end=\" \")\n",
        "                score += 1\n",
        "            else:\n",
        "                print(\"Aww, that's incorrect.\", end=\" \")\n",
        "\n",
        "            print(f\"The computer's number was {computer_number}\")\n",
        "            print(f\"Your score is now {score}\\n\")\n",
        "\n",
        "        print(\"Thanks for playing!\")\n",
        "\n",
        "        if score == num_rounds:\n",
        "            print(\"Wow! You played perfectly!\")\n",
        "        elif score >= num_rounds // 2:\n",
        "            print(\"Good job, you played really well!\")\n",
        "        else:\n",
        "            print(\"Better luck next time!\")\n",
        "\n",
        "        play_again = input(\"Do you want to play again? (yes/no): \").strip().lower()\n",
        "        if play_again != \"yes\":\n",
        "            print(\"Goodbye! Thanks for playing!\")\n",
        "            break\n",
        "\n",
        "# Run the game\n",
        "high_low_game()\n"
      ],
      "metadata": {
        "colab": {
          "base_uri": "https://localhost:8080/"
        },
        "id": "RXScxQgDGdKb",
        "outputId": "fcec7f24-1142-47d1-a2d3-4981c03f7e57"
      },
      "execution_count": 2,
      "outputs": [
        {
          "output_type": "stream",
          "name": "stdout",
          "text": [
            "Welcome to the High-Low Game!\n",
            "----------------------------------------\n",
            "Round 1\n",
            "Your number is 86\n",
            "Do you think your number is higher or lower than the computer's? (higher/lower): lower\n",
            "Aww, that's incorrect. The computer's number was 47\n",
            "Your score is now 0\n",
            "\n",
            "Round 2\n",
            "Your number is 36\n",
            "Do you think your number is higher or lower than the computer's? (higher/lower): higher\n",
            "You were right! The computer's number was 32\n",
            "Your score is now 1\n",
            "\n",
            "Round 3\n",
            "Your number is 1\n",
            "Do you think your number is higher or lower than the computer's? (higher/lower): lower\n",
            "You were right! The computer's number was 43\n",
            "Your score is now 2\n",
            "\n",
            "Round 4\n",
            "Your number is 37\n",
            "Do you think your number is higher or lower than the computer's? (higher/lower): higher\n",
            "You were right! The computer's number was 18\n",
            "Your score is now 3\n",
            "\n",
            "Round 5\n",
            "Your number is 13\n",
            "Do you think your number is higher or lower than the computer's? (higher/lower): higher\n",
            "Aww, that's incorrect. The computer's number was 96\n",
            "Your score is now 3\n",
            "\n",
            "Thanks for playing!\n",
            "Good job, you played really well!\n",
            "Do you want to play again? (yes/no): no\n",
            "Goodbye! Thanks for playing!\n"
          ]
        }
      ]
    },
    {
      "cell_type": "markdown",
      "source": [
        "**solution**"
      ],
      "metadata": {
        "id": "1eVwAXbTlBNN"
      }
    },
    {
      "cell_type": "code",
      "source": [
        "import random\n",
        "\n",
        "NUM_ROUNDS = 5\n",
        "\n",
        "def main():\n",
        "    print(\"Welcome to the High-Low Game!\")\n",
        "    print('--------------------------------')\n",
        "\n",
        "    # Milestone 5: keep track of your score\n",
        "    your_score = 0\n",
        "\n",
        "    # Milestone 4: Play multiple rounds\n",
        "    for i in range(NUM_ROUNDS):\n",
        "        print(\"Round\", i + 1)\n",
        "        # Milestone 1: Generate the random numbers and print them out\n",
        "        computer_num: int = random.randint(1, 100)\n",
        "        your_num: int = random.randint(1, 100)\n",
        "        print(\"Your number is\", your_num)\n",
        "\n",
        "        # Milestone 2: Get user input for their choice\n",
        "        choice: str = input(\"Do you think your number is higher or lower than the computer's?: \")\n",
        "\n",
        "        # Milestone 3: Map out all the ways to win the round\n",
        "        higher_and_correct: bool = choice == \"higher\" and your_num > computer_num\n",
        "        lower_and_correct: bool = choice == \"lower\" and your_num < computer_num\n",
        "\n",
        "        if higher_and_correct or lower_and_correct:\n",
        "            print(\"You were right! The computer's number was\", computer_num)\n",
        "            # Milestone 5: keep track of your score\n",
        "            your_score += 1\n",
        "        else:\n",
        "            print(\"Aww, that's incorrect. The computer's number was\", computer_num)\n",
        "\n",
        "        # Milestone 5: keep track of your score\n",
        "        print(\"Your score is now\", your_score)\n",
        "        print()\n",
        "\n",
        "    print(\"Thanks for playing!\")\n",
        "\n",
        "if __name__ == \"__main__\":\n",
        "    main()\n"
      ],
      "metadata": {
        "colab": {
          "base_uri": "https://localhost:8080/"
        },
        "id": "WepdloWQmMGB",
        "outputId": "5b112daa-4298-4b2d-b262-8b20d9052ccf"
      },
      "execution_count": 4,
      "outputs": [
        {
          "output_type": "stream",
          "name": "stdout",
          "text": [
            "Welcome to the High-Low Game!\n",
            "--------------------------------\n",
            "Round 1\n",
            "Your number is 53\n",
            "Do you think your number is higher or lower than the computer's?: higher\n",
            "You were right! The computer's number was 30\n",
            "Your score is now 1\n",
            "\n",
            "Round 2\n",
            "Your number is 68\n",
            "Do you think your number is higher or lower than the computer's?: lowe\n",
            "Aww, that's incorrect. The computer's number was 28\n",
            "Your score is now 1\n",
            "\n",
            "Round 3\n",
            "Your number is 99\n",
            "Do you think your number is higher or lower than the computer's?: higher\n",
            "You were right! The computer's number was 31\n",
            "Your score is now 2\n",
            "\n",
            "Round 4\n",
            "Your number is 58\n",
            "Do you think your number is higher or lower than the computer's?: higher\n",
            "Aww, that's incorrect. The computer's number was 59\n",
            "Your score is now 2\n",
            "\n",
            "Round 5\n",
            "Your number is 98\n",
            "Do you think your number is higher or lower than the computer's?: higher\n",
            "You were right! The computer's number was 65\n",
            "Your score is now 3\n",
            "\n",
            "Thanks for playing!\n"
          ]
        }
      ]
    },
    {
      "cell_type": "markdown",
      "source": [
        "**starter_code**"
      ],
      "metadata": {
        "id": "kX1wWctOnLhm"
      }
    },
    {
      "cell_type": "code",
      "source": [
        "import random\n",
        "\n",
        "def high_low_game(num_rounds=5):\n",
        "    while True:\n",
        "        print(\"Welcome to the High-Low Game!\")\n",
        "        print(\"-\" * 40)\n",
        "\n",
        "        score = 0\n",
        "\n",
        "        for round_num in range(1, num_rounds + 1):\n",
        "            print(f\"Round {round_num}\")\n",
        "\n",
        "            user_number = random.randint(1, 100)\n",
        "            computer_number = random.randint(1, 100)\n",
        "\n",
        "            print(f\"Your number is {user_number}\")\n",
        "\n",
        "            while True:\n",
        "                guess = input(\"What’s your guess? Is your number greater or smaller than the computer’s? (higher/lower): \").strip().lower()\n",
        "                if guess in [\"higher\", \"lower\"]:\n",
        "                    break\n",
        "                print(\"Please enter either 'higher' or 'lower'.\")\n",
        "\n",
        "            if (guess == \"higher\" and user_number > computer_number) or (guess == \"lower\" and user_number < computer_number):\n",
        "                print(\"You were right!\", end=\" \")\n",
        "                score += 1\n",
        "            else:\n",
        "                print(\"Aww, that's incorrect.\", end=\" \")\n",
        "\n",
        "            print(f\"The computer's number was {computer_number}\")\n",
        "            print(f\"Your score is now {score}\\n\")\n",
        "\n",
        "        print(\"Thanks for playing!\")\n",
        "\n",
        "        if score == num_rounds:\n",
        "            print(\"Wow! You played perfectly!\")\n",
        "        elif score >= num_rounds // 2:\n",
        "            print(\"Good job, you played really well!\")\n",
        "        else:\n",
        "            print(\"Better luck next time!\")\n",
        "\n",
        "        play_again = input(\"Do you want to play again? (yes/no): \").strip().lower()\n",
        "        if play_again != \"yes\":\n",
        "            print(\"Goodbye! Thanks for playing!\")\n",
        "            break\n",
        "\n",
        "# Run the game\n",
        "high_low_game()\n"
      ],
      "metadata": {
        "colab": {
          "base_uri": "https://localhost:8080/"
        },
        "id": "971vwvEBqcoT",
        "outputId": "cf491255-7fb5-40ba-9c6c-45d8b1dc9b7a"
      },
      "execution_count": 6,
      "outputs": [
        {
          "output_type": "stream",
          "name": "stdout",
          "text": [
            "Welcome to the High-Low Game!\n",
            "----------------------------------------\n",
            "Round 1\n",
            "Your number is 57\n",
            "What’s your guess? Is your number greater or smaller than the computer’s? (higher/lower): higher\n",
            "You were right! The computer's number was 2\n",
            "Your score is now 1\n",
            "\n",
            "Round 2\n",
            "Your number is 7\n",
            "What’s your guess? Is your number greater or smaller than the computer’s? (higher/lower): higher\n",
            "Aww, that's incorrect. The computer's number was 88\n",
            "Your score is now 1\n",
            "\n",
            "Round 3\n",
            "Your number is 1\n",
            "What’s your guess? Is your number greater or smaller than the computer’s? (higher/lower): lower\n",
            "You were right! The computer's number was 53\n",
            "Your score is now 2\n",
            "\n",
            "Round 4\n",
            "Your number is 35\n",
            "What’s your guess? Is your number greater or smaller than the computer’s? (higher/lower): higher\n",
            "Aww, that's incorrect. The computer's number was 71\n",
            "Your score is now 2\n",
            "\n",
            "Round 5\n",
            "Your number is 23\n",
            "What’s your guess? Is your number greater or smaller than the computer’s? (higher/lower): lower\n",
            "You were right! The computer's number was 57\n",
            "Your score is now 3\n",
            "\n",
            "Thanks for playing!\n",
            "Good job, you played really well!\n",
            "Do you want to play again? (yes/no): no\n",
            "Goodbye! Thanks for playing!\n"
          ]
        }
      ]
    },
    {
      "cell_type": "markdown",
      "source": [
        "# **Intro to Python**"
      ],
      "metadata": {
        "id": "uY7SsAvaslqB"
      }
    },
    {
      "cell_type": "markdown",
      "source": [
        "**handout**"
      ],
      "metadata": {
        "id": "RblMR8Rbsvi5"
      }
    },
    {
      "cell_type": "code",
      "source": [
        "# Planetary Weight Calculator\n",
        "\n",
        "def planetary_weight():\n",
        "    print(\"Welcome to the Planetary Weight Calculator!\")\n",
        "    print(\"-\" * 50)\n",
        "\n",
        "    # کشش ثقل کے تناسب مختلف سیاروں کے لیے\n",
        "    gravity_factors = {\n",
        "        \"Mercury\": 0.376,\n",
        "        \"Venus\": 0.889,\n",
        "        \"Mars\": 0.378,\n",
        "        \"Jupiter\": 2.36,\n",
        "        \"Saturn\": 1.081,\n",
        "        \"Uranus\": 0.815,\n",
        "        \"Neptune\": 1.14\n",
        "    }\n",
        "\n",
        "    # یوزر سے وزن لینا\n",
        "    earth_weight = float(input(\"Enter your weight on Earth (kg): \"))\n",
        "\n",
        "    # یوزر سے سیارہ منتخب کروانا\n",
        "    planet = input(\"Enter the name of a planet (e.g., Mars, Jupiter): \").strip().capitalize()\n",
        "\n",
        "    # اگر سیارہ لسٹ میں موجود ہے، تو وزن نکالیں\n",
        "    if planet in gravity_factors:\n",
        "        planet_weight = round(earth_weight * gravity_factors[planet], 2)\n",
        "        print(f\"The equivalent weight on {planet}: {planet_weight} kg\")\n",
        "    else:\n",
        "        print(\"Invalid planet name. Please enter a valid planet from our solar system.\")\n",
        "\n",
        "# Run the function\n",
        "planetary_weight()\n"
      ],
      "metadata": {
        "id": "dczfa3FftF0b",
        "outputId": "be8ab28c-8587-4149-9cf0-bcadf0055e83",
        "colab": {
          "base_uri": "https://localhost:8080/"
        }
      },
      "execution_count": 7,
      "outputs": [
        {
          "output_type": "stream",
          "name": "stdout",
          "text": [
            "Welcome to the Planetary Weight Calculator!\n",
            "--------------------------------------------------\n",
            "Enter your weight on Earth (kg): 80\n",
            "Enter the name of a planet (e.g., Mars, Jupiter): baba\n",
            "Invalid planet name. Please enter a valid planet from our solar system.\n"
          ]
        }
      ]
    },
    {
      "cell_type": "markdown",
      "source": [
        "**solution**"
      ],
      "metadata": {
        "id": "fdPLNwr6uiK6"
      }
    },
    {
      "cell_type": "code",
      "source": [
        "# Gravitational constants for different planets\n",
        "MERCURY_GRAVITY = 0.376\n",
        "VENUS_GRAVITY = 0.889\n",
        "MARS_GRAVITY = 0.378\n",
        "JUPITER_GRAVITY = 2.36\n",
        "SATURN_GRAVITY = 1.081\n",
        "URANUS_GRAVITY = 0.815\n",
        "NEPTUNE_GRAVITY = 1.14\n",
        "EARTH_GRAVITY = 1.0\n",
        "\n",
        "def main():\n",
        "    # Prompt the user for their weight on Earth\n",
        "    earth_weight = float(input(\"Enter a weight on Earth: \"))\n",
        "\n",
        "    # Prompt the user for the name of a planet\n",
        "    planet = input(\"Enter a planet: \")\n",
        "\n",
        "    # Determine the gravitational constant for the selected planet\n",
        "    if planet == \"Mercury\":\n",
        "        gravity_constant = MERCURY_GRAVITY\n",
        "    elif planet == \"Venus\":\n",
        "        gravity_constant = VENUS_GRAVITY\n",
        "    elif planet == \"Mars\":\n",
        "        gravity_constant = MARS_GRAVITY\n",
        "    elif planet == \"Jupiter\":\n",
        "        gravity_constant = JUPITER_GRAVITY\n",
        "    elif planet == \"Saturn\":\n",
        "        gravity_constant = SATURN_GRAVITY\n",
        "    elif planet == \"Uranus\":\n",
        "        gravity_constant = URANUS_GRAVITY\n",
        "    else:\n",
        "        gravity_constant = NEPTUNE_GRAVITY\n",
        "\n",
        "    # Calculate the equivalent weight on the selected planet\n",
        "    planetary_weight = earth_weight * gravity_constant\n",
        "    rounded_planetary_weight = round(planetary_weight, 2)\n",
        "\n",
        "    # Print the result\n",
        "    print(\"The equivalent weight on \" + planet + \":  \" + str(rounded_planetary_weight))\n",
        "\n",
        "if __name__ == \"__main__\":\n",
        "    main()\n"
      ],
      "metadata": {
        "id": "6rhqDu8aurF5",
        "outputId": "b136d27d-b7e6-4c4d-967b-84645e4cb917",
        "colab": {
          "base_uri": "https://localhost:8080/"
        }
      },
      "execution_count": 8,
      "outputs": [
        {
          "output_type": "stream",
          "name": "stdout",
          "text": [
            "Enter a weight on Earth: 53.5\n",
            "Enter a planet: 78\n",
            "The equivalent weight on 78:  60.99\n"
          ]
        }
      ]
    },
    {
      "cell_type": "markdown",
      "source": [
        "**starter_code**"
      ],
      "metadata": {
        "id": "VKF7Ih1Vwhy4"
      }
    },
    {
      "cell_type": "code",
      "source": [
        "# Mars Weight Calculation\n",
        "MARS_MULTIPLIER = 0.378\n",
        "\n",
        "def main():\n",
        "    # Prompt user for weight on Earth\n",
        "    earth_weight_input = input(\"Enter your weight on Earth: \")\n",
        "\n",
        "    # Convert the input to float for calculation\n",
        "    earth_weight = float(earth_weight_input)\n",
        "\n",
        "    # Calculate the equivalent weight on Mars\n",
        "    mars_weight = earth_weight * MARS_MULTIPLIER\n",
        "    rounded_mars_weight = round(mars_weight, 2)\n",
        "\n",
        "    # Display the result\n",
        "    print(f\"The equivalent weight on Mars: {rounded_mars_weight} kg\")\n",
        "\n",
        "if __name__ == \"__main__\":\n",
        "    main()\n"
      ],
      "metadata": {
        "id": "TZpr9DmNwndo",
        "outputId": "0112fe89-3802-4256-e56d-621410833e2b",
        "colab": {
          "base_uri": "https://localhost:8080/"
        }
      },
      "execution_count": 9,
      "outputs": [
        {
          "output_type": "stream",
          "name": "stdout",
          "text": [
            "Enter your weight on Earth: 75\n",
            "The equivalent weight on Mars: 28.35 kg\n"
          ]
        }
      ]
    },
    {
      "cell_type": "markdown",
      "source": [
        "# **Lists and Dicts**"
      ],
      "metadata": {
        "id": "Hy5MdGK0xKuM"
      }
    },
    {
      "cell_type": "markdown",
      "source": [
        "**handout**"
      ],
      "metadata": {
        "id": "u8FiMDKsxOpp"
      }
    },
    {
      "cell_type": "code",
      "source": [
        "def main():\n",
        "    # Create a list called fruit_list that contains the following fruits\n",
        "    fruit_list = ['apple', 'banana', 'orange', 'grape', 'pineapple']\n",
        "\n",
        "    # Print the length of the list\n",
        "    print(f\"Length of the list: {len(fruit_list)}\")\n",
        "\n",
        "    # Add 'mango' at the end of the list\n",
        "    fruit_list.append('mango')\n",
        "\n",
        "    # Print the updated list\n",
        "    print(\"Updated list of fruits:\", fruit_list)\n",
        "\n",
        "if __name__ == \"__main__\":\n",
        "    main()\n",
        "\n",
        "\n",
        "\n",
        "\n",
        "\n",
        "\n",
        "\n",
        "\n",
        "\n",
        "\n",
        "\n",
        "\n",
        "def access_element(lst, index):\n",
        "    # Check if the index is in range\n",
        "    if index < 0 or index >= len(lst):\n",
        "        return \"Index is out of range!\"\n",
        "    return lst[index]\n",
        "\n",
        "def modify_element(lst, index, new_value):\n",
        "    # Check if the index is in range\n",
        "    if index < 0 or index >= len(lst):\n",
        "        return \"Index is out of range!\"\n",
        "    lst[index] = new_value\n",
        "    return lst\n",
        "\n",
        "def slice_list(lst, start, end):\n",
        "    # Handle out of range start and end indices\n",
        "    if start < 0 or end > len(lst):\n",
        "        return \"Invalid slice range!\"\n",
        "    return lst[start:end]\n",
        "\n",
        "def main():\n",
        "    # Initialize the list with at least 5 elements\n",
        "    my_list = [10, 'apple', 25.5, 'banana', 'cherry']\n",
        "\n",
        "    print(\"Welcome to the Index Game!\")\n",
        "    print(\"Here is your list:\", my_list)\n",
        "\n",
        "    while True:\n",
        "        print(\"\\nSelect an operation:\")\n",
        "        print(\"1. Access an element\")\n",
        "        print(\"2. Modify an element\")\n",
        "        print(\"3. Slice the list\")\n",
        "        print(\"4. Exit\")\n",
        "\n",
        "        # Take user input for the operation they want to perform\n",
        "        operation = input(\"Enter the number of the operation: \")\n",
        "\n",
        "        if operation == '1':\n",
        "            index = int(input(\"Enter the index to access: \"))\n",
        "            print(f\"Element at index {index}:\", access_element(my_list, index))\n",
        "\n",
        "        elif operation == '2':\n",
        "            index = int(input(\"Enter the index to modify: \"))\n",
        "            new_value = input(\"Enter the new value: \")\n",
        "            # Convert new_value to int or float if possible\n",
        "            try:\n",
        "                new_value = eval(new_value)\n",
        "            except:\n",
        "                pass\n",
        "            print(\"Updated list:\", modify_element(my_list, index, new_value))\n",
        "\n",
        "        elif operation == '3':\n",
        "            start = int(input(\"Enter the start index for slicing: \"))\n",
        "            end = int(input(\"Enter the end index for slicing: \"))\n",
        "            print(\"Sliced list:\", slice_list(my_list, start, end))\n",
        "\n",
        "        elif operation == '4':\n",
        "            print(\"Thank you for playing! Goodbye!\")\n",
        "            break\n",
        "\n",
        "        else:\n",
        "            print(\"Invalid option. Please try again.\")\n",
        "\n",
        "if __name__ == \"__main__\":\n",
        "    main()\n"
      ],
      "metadata": {
        "id": "X2W8cIAexZqO",
        "outputId": "42fcbfc4-24c9-46a6-d64a-653465600124",
        "colab": {
          "base_uri": "https://localhost:8080/"
        }
      },
      "execution_count": 10,
      "outputs": [
        {
          "output_type": "stream",
          "name": "stdout",
          "text": [
            "Length of the list: 5\n",
            "Updated list of fruits: ['apple', 'banana', 'orange', 'grape', 'pineapple', 'mango']\n",
            "Welcome to the Index Game!\n",
            "Here is your list: [10, 'apple', 25.5, 'banana', 'cherry']\n",
            "\n",
            "Select an operation:\n",
            "1. Access an element\n",
            "2. Modify an element\n",
            "3. Slice the list\n",
            "4. Exit\n",
            "Enter the number of the operation: 3\n",
            "Enter the start index for slicing: 5\n",
            "Enter the end index for slicing: 6\n",
            "Sliced list: Invalid slice range!\n",
            "\n",
            "Select an operation:\n",
            "1. Access an element\n",
            "2. Modify an element\n",
            "3. Slice the list\n",
            "4. Exit\n",
            "Enter the number of the operation: slice the list\n",
            "Invalid option. Please try again.\n",
            "\n",
            "Select an operation:\n",
            "1. Access an element\n",
            "2. Modify an element\n",
            "3. Slice the list\n",
            "4. Exit\n",
            "Enter the number of the operation: Exit\n",
            "Invalid option. Please try again.\n",
            "\n",
            "Select an operation:\n",
            "1. Access an element\n",
            "2. Modify an element\n",
            "3. Slice the list\n",
            "4. Exit\n",
            "Enter the number of the operation: 4\n",
            "Thank you for playing! Goodbye!\n"
          ]
        }
      ]
    },
    {
      "cell_type": "markdown",
      "source": [
        "**Solution**"
      ],
      "metadata": {
        "id": "-XA14O3MzKIu"
      }
    },
    {
      "cell_type": "code",
      "source": [
        "def access_element(lst, index):\n",
        "    try:\n",
        "        return lst[index]\n",
        "    except IndexError:\n",
        "        return \"Index out of range.\"\n",
        "\n",
        "def modify_element(lst, index, new_value):\n",
        "    try:\n",
        "        lst[index] = new_value\n",
        "        return lst\n",
        "    except IndexError:\n",
        "        return \"Index out of range.\"\n",
        "\n",
        "def slice_list(lst, start, end):\n",
        "    try:\n",
        "        return lst[start:end]\n",
        "    except IndexError:\n",
        "        return \"Invalid indices.\"\n",
        "\n",
        "def index_game():\n",
        "    lst = [1, 2, 3, 4, 5]  # Example list\n",
        "    print(\"Current list:\", lst)\n",
        "    print(\"Choose an operation: access, modify, slice\")\n",
        "    operation = input(\"Enter operation: \")\n",
        "\n",
        "    if operation == \"access\":\n",
        "        index = int(input(\"Enter index to access: \"))\n",
        "        print(access_element(lst, index))\n",
        "    elif operation == \"modify\":\n",
        "        index = int(input(\"Enter index to modify: \"))\n",
        "        new_value = input(\"Enter new value: \")\n",
        "        print(modify_element(lst, index, new_value))\n",
        "    elif operation == \"slice\":\n",
        "        start = int(input(\"Enter start index: \"))\n",
        "        end = int(input(\"Enter end index: \"))\n",
        "        print(slice_list(lst, start, end))\n",
        "    else:\n",
        "        print(\"Invalid operation.\")\n",
        "\n",
        "index_game()\n"
      ],
      "metadata": {
        "id": "ttVMZt2ZzNgE",
        "outputId": "a7e4e236-420e-4ad2-977d-8d3f226f6b52",
        "colab": {
          "base_uri": "https://localhost:8080/"
        }
      },
      "execution_count": 13,
      "outputs": [
        {
          "output_type": "stream",
          "name": "stdout",
          "text": [
            "Current list: [1, 2, 3, 4, 5]\n",
            "Choose an operation: access, modify, slice\n",
            "Enter operation: modify\n",
            "Enter index to modify: 4\n",
            "Enter new value: 7\n",
            "[1, 2, 3, 4, '7']\n"
          ]
        }
      ]
    }
  ]
}