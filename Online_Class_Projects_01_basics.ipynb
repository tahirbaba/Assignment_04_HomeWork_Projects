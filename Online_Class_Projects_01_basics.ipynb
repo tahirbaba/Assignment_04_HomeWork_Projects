{
  "nbformat": 4,
  "nbformat_minor": 0,
  "metadata": {
    "colab": {
      "provenance": [],
      "authorship_tag": "ABX9TyPEYImoyVJLhO6GftwYfKyO",
      "include_colab_link": true
    },
    "kernelspec": {
      "name": "python3",
      "display_name": "Python 3"
    },
    "language_info": {
      "name": "python"
    }
  },
  "cells": [
    {
      "cell_type": "markdown",
      "metadata": {
        "id": "view-in-github",
        "colab_type": "text"
      },
      "source": [
        "<a href=\"https://colab.research.google.com/github/tahirbaba/Assignment_04_HomeWork_Projects/blob/master/Online_Class_Projects_01_basics.ipynb\" target=\"_parent\"><img src=\"https://colab.research.google.com/assets/colab-badge.svg\" alt=\"Open In Colab\"/></a>"
      ]
    },
    {
      "cell_type": "markdown",
      "source": [
        "**00_joke_bot**"
      ],
      "metadata": {
        "id": "8RFEI0TO0kQj"
      }
    },
    {
      "cell_type": "code",
      "source": [
        "PROMPT: str = \"What do you want? \"\n",
        "JOKE: str = \"Here is a joke for you! Sophia is heading out to the grocery store. A programmer tells her: get a liter of milk, and if they have eggs, get 12. Sophia returns with 13 liters of milk. The programmer asks why and Sophia replies: 'because they had eggs'\"\n",
        "SORRY: str = \"Sorry I only tell jokes.\"\n",
        "\n",
        "def main():\n",
        "    # Get user input using the PROMPT variable\n",
        "    user_input = input(PROMPT)\n",
        "    user_input = user_input.strip().lower()\n",
        "\n",
        "    if \"joke\" in user_input:\n",
        "        print(JOKE)\n",
        "    else:\n",
        "        print(SORRY)\n",
        "\n",
        "if __name__ == \"__main__\":\n",
        "    main()"
      ],
      "metadata": {
        "colab": {
          "base_uri": "https://localhost:8080/"
        },
        "id": "mEEx5g4Q0sjP",
        "outputId": "2547addf-df01-4251-b8ff-646b3ce41000"
      },
      "execution_count": 2,
      "outputs": [
        {
          "output_type": "stream",
          "name": "stdout",
          "text": [
            "What do you want? I want to learning\n",
            "Sorry I only tell jokes.\n"
          ]
        }
      ]
    },
    {
      "cell_type": "markdown",
      "source": [
        "**01_double_it**"
      ],
      "metadata": {
        "id": "wI1VnfJN4pWf"
      }
    },
    {
      "cell_type": "code",
      "source": [
        "def main():\n",
        "    # User se number input lena\n",
        "    curr_value = int(input(\"Enter a number: \"))\n",
        "\n",
        "    # Jab tak number 100 se chhota hai, usko double karte raho\n",
        "    while curr_value < 100:\n",
        "        curr_value *= 2\n",
        "        print(curr_value, end=\" \")  # Output ek hi line me aayega\n",
        "\n",
        "    print(\"\\nProcess complete!\")  # Jab 100 se bara ho jaye, process khatam\n",
        "\n",
        "# Required function call\n",
        "if __name__ == '__main__':\n",
        "    main()\n"
      ],
      "metadata": {
        "colab": {
          "base_uri": "https://localhost:8080/"
        },
        "id": "9apWJF_i41MU",
        "outputId": "e55b8257-889e-4f48-a35d-59e5e4663aeb"
      },
      "execution_count": 3,
      "outputs": [
        {
          "output_type": "stream",
          "name": "stdout",
          "text": [
            "Enter a number: 25\n",
            "50 100 \n",
            "Process complete!\n"
          ]
        }
      ]
    },
    {
      "cell_type": "markdown",
      "source": [
        "**02_liftoff**"
      ],
      "metadata": {
        "id": "tc3fXdlB55SG"
      }
    },
    {
      "cell_type": "code",
      "source": [
        "def main():\n",
        "    # Countdown 10 se 1 tak\n",
        "    for i in range(10, 0, -1):  # 10 se start, 1 tak jaye, -1 step size\n",
        "        print(i, end=\" \")  # Space ke sath print karega\n",
        "\n",
        "    print(\"Liftoff!\")  # Jab countdown khatam ho, \"Liftoff!\" print karega\n",
        "\n",
        "# Required function call\n",
        "if __name__ == '__main__':\n",
        "    main()\n"
      ],
      "metadata": {
        "colab": {
          "base_uri": "https://localhost:8080/"
        },
        "id": "mo3sxhny57Qt",
        "outputId": "3a51dcb9-cfbe-4d11-f627-b82e79bd3815"
      },
      "execution_count": 4,
      "outputs": [
        {
          "output_type": "stream",
          "name": "stdout",
          "text": [
            "10 9 8 7 6 5 4 3 2 1 Liftoff!\n"
          ]
        }
      ]
    },
    {
      "cell_type": "markdown",
      "source": [
        "**03_guess_my_number**"
      ],
      "metadata": {
        "id": "UPyinNTC6UQc"
      }
    },
    {
      "cell_type": "code",
      "source": [
        "import random\n",
        "\n",
        "def main():\n",
        "    # Generate the secret number at random!\n",
        "    secret_number: int = random.randint(1, 99)\n",
        "\n",
        "    print(\"I am thinking of a number between 1 and 99...\")\n",
        "\n",
        "    # Get user's guess\n",
        "    guess = int(input(\"Enter a guess: \"))\n",
        "    # True if guess is not equal to secret number\n",
        "    while guess != secret_number:\n",
        "        if guess < secret_number:  # If-statement is True if guess is less than secret number\n",
        "            print(\"Your guess is too low\")\n",
        "        else:\n",
        "            print(\"Your guess is too high\")\n",
        "\n",
        "        print() # Print an empty line to tidy up the console for new guesses\n",
        "        guess: int = int(input(\"Enter a new guess: \"))  # Get a new guess from the user\n",
        "\n",
        "    print(\"Congrats! The number was: \" + str(secret_number))\n",
        "\n",
        "if __name__ == '__main__':\n",
        "    main()\n"
      ],
      "metadata": {
        "colab": {
          "base_uri": "https://localhost:8080/"
        },
        "id": "EUTnT4oX6cN8",
        "outputId": "d8fd863e-ca72-47e8-d533-a7efab51b06b"
      },
      "execution_count": 5,
      "outputs": [
        {
          "output_type": "stream",
          "name": "stdout",
          "text": [
            "I am thinking of a number between 1 and 99...\n",
            "Enter a guess: 10\n",
            "Your guess is too low\n",
            "\n",
            "Enter a new guess: 20\n",
            "Your guess is too low\n",
            "\n",
            "Enter a new guess: 50\n",
            "Your guess is too low\n",
            "\n",
            "Enter a new guess: 60\n",
            "Your guess is too low\n",
            "\n",
            "Enter a new guess: 70\n",
            "Your guess is too low\n",
            "\n",
            "Enter a new guess: 80\n",
            "Your guess is too high\n",
            "\n",
            "Enter a new guess: 75\n",
            "Your guess is too high\n",
            "\n",
            "Enter a new guess: 74\n",
            "Your guess is too high\n",
            "\n",
            "Enter a new guess: 73\n",
            "Your guess is too high\n",
            "\n",
            "Enter a new guess: 72\n",
            "Congrats! The number was: 72\n"
          ]
        }
      ]
    },
    {
      "cell_type": "markdown",
      "source": [
        "**04_random_numbers**"
      ],
      "metadata": {
        "id": "TSQJgb3g64c8"
      }
    },
    {
      "cell_type": "code",
      "source": [
        "import random\n",
        "\n",
        "N_NUMBERS: int = 10  # Kitne random numbers generate karne hain\n",
        "MIN_VALUE: int = 1   # Minimum value\n",
        "MAX_VALUE: int = 100  # Maximum value\n",
        "\n",
        "def main():\n",
        "    # 10 random numbers print karega\n",
        "    for _ in range(N_NUMBERS):\n",
        "        print(random.randint(MIN_VALUE, MAX_VALUE), end=\" \")  # Ek line me space ke sath print\n",
        "\n",
        "if __name__ == '__main__':\n",
        "    main()\n"
      ],
      "metadata": {
        "colab": {
          "base_uri": "https://localhost:8080/"
        },
        "id": "GHh1xJxO6_7G",
        "outputId": "eb6b9b20-5030-4311-f10d-270efaf4938b"
      },
      "execution_count": 6,
      "outputs": [
        {
          "output_type": "stream",
          "name": "stdout",
          "text": [
            "64 92 59 48 7 36 17 56 64 18 "
          ]
        }
      ]
    }
  ]
}