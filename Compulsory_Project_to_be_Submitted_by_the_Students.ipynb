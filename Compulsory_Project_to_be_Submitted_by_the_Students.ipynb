{
  "nbformat": 4,
  "nbformat_minor": 0,
  "metadata": {
    "colab": {
      "provenance": [],
      "authorship_tag": "ABX9TyNztd1PzkTVkOzRaaOGyKlX",
      "include_colab_link": true
    },
    "kernelspec": {
      "name": "python3",
      "display_name": "Python 3"
    },
    "language_info": {
      "name": "python"
    }
  },
  "cells": [
    {
      "cell_type": "markdown",
      "metadata": {
        "id": "view-in-github",
        "colab_type": "text"
      },
      "source": [
        "<a href=\"https://colab.research.google.com/github/tahirbaba/Assignment_04_HomeWork_Projects/blob/master/Compulsory_Project_to_be_Submitted_by_the_Students.ipynb\" target=\"_parent\"><img src=\"https://colab.research.google.com/assets/colab-badge.svg\" alt=\"Open In Colab\"/></a>"
      ]
    },
    {
      "cell_type": "markdown",
      "source": [
        "**Project_01**\n",
        "> Mad Libs Python Project"
      ],
      "metadata": {
        "id": "a_NdsketLH70"
      }
    },
    {
      "cell_type": "code",
      "execution_count": 3,
      "metadata": {
        "colab": {
          "base_uri": "https://localhost:8080/"
        },
        "id": "jPvoTEhPIJrO",
        "outputId": "8683fef3-c636-428d-f63a-c472f3fc21ae"
      },
      "outputs": [
        {
          "output_type": "stream",
          "name": "stdout",
          "text": [
            "Enter a programming concept (e.g., Algorithms, Data Structures, etc.): Data Structures\n",
            "Enter a coding task (e.g., design, optimize, debug): Optimize\n",
            "Enter another coding task (e.g., implement, test, document): document\n",
            "Enter a role model programmer (e.g., Grace Hopper, Bjarne Stroustrup): Grace Hopper\n",
            "\n",
            "Here’s your Mad Lib:\n",
            "\n",
            "Mastering Data Structures in Python is truly thrilling! It inspires me to think like a professional coder\n",
            "because I enjoy Optimize challenging problems and document just like Grace Hopper!\n",
            "\n"
          ]
        }
      ],
      "source": [
        "# Getting user input\n",
        "programming_concept = input(\"Enter a programming concept (e.g., Algorithms, Data Structures, etc.): \")\n",
        "task1 = input(\"Enter a coding task (e.g., design, optimize, debug): \")\n",
        "task2 = input(\"Enter another coding task (e.g., implement, test, document): \")\n",
        "role_model = input(\"Enter a role model programmer (e.g., Grace Hopper, Bjarne Stroustrup): \")\n",
        "\n",
        "# Generating the Mad Lib\n",
        "madlibs = f\"\"\"\n",
        "Mastering {programming_concept} in Python is truly thrilling! It inspires me to think like a professional coder\n",
        "because I enjoy {task1} challenging problems and {task2} just like {role_model}!\n",
        "\"\"\"\n",
        "\n",
        "# Displaying the result\n",
        "print(\"\\nHere’s your Mad Lib:\")\n",
        "print(madlibs)"
      ]
    },
    {
      "cell_type": "markdown",
      "source": [
        "**Project_02**\n",
        "\n",
        "> Guess the Number Game Python Project (computer)"
      ],
      "metadata": {
        "id": "0nEZ4ussM4zF"
      }
    },
    {
      "cell_type": "code",
      "source": [
        "import random\n",
        "\n",
        "def number_guessing_game(limit):\n",
        "    target_number = random.randint(1, limit)\n",
        "    user_guess = 0\n",
        "    while user_guess != target_number:\n",
        "        user_guess = int(input(f\"Try guessing a number between 1 and {limit}: \"))\n",
        "        if user_guess < target_number:\n",
        "            print(\"Oops! Your guess is too low. Try again.\")\n",
        "        elif user_guess > target_number:\n",
        "            print(\"Oops! Your guess is too high. Try again.\")\n",
        "    print(f\"Congratulations! You've guessed the correct number: {target_number}!\")\n",
        "\n",
        "number_guessing_game(10)"
      ],
      "metadata": {
        "colab": {
          "base_uri": "https://localhost:8080/"
        },
        "id": "HlZPsJQTNOIx",
        "outputId": "be9ef211-4dce-41b0-953c-11b3fe3fb5dd"
      },
      "execution_count": 4,
      "outputs": [
        {
          "output_type": "stream",
          "name": "stdout",
          "text": [
            "Try guessing a number between 1 and 10: 9\n",
            "Congratulations! You've guessed the correct number: 9!\n"
          ]
        }
      ]
    },
    {
      "cell_type": "markdown",
      "source": [
        "**Project_03**\n",
        "\n",
        "> Guess the Number Game Python Project (user)"
      ],
      "metadata": {
        "id": "_bZBOip5N2HU"
      }
    },
    {
      "cell_type": "code",
      "source": [
        "import random\n",
        "\n",
        "def ai_guess_number(range_limit):\n",
        "    lower_bound = 1\n",
        "    upper_bound = range_limit\n",
        "    user_feedback = ''\n",
        "\n",
        "    while user_feedback != 'c':\n",
        "        if lower_bound != upper_bound:\n",
        "            guess = random.randint(lower_bound, upper_bound)\n",
        "        else:\n",
        "            guess = lower_bound\n",
        "\n",
        "        user_feedback = input(f\"Is the guess {guess} too High (H), too Low (L), or Correct (C)? \").lower()\n",
        "\n",
        "        if user_feedback == 'h':\n",
        "            upper_bound = guess - 1\n",
        "        elif user_feedback == 'l':\n",
        "            lower_bound = guess + 1\n",
        "\n",
        "    print(f\"Awesome! The computer successfully guessed your number: {guess}!\")\n",
        "\n",
        "ai_guess_number(1000)"
      ],
      "metadata": {
        "colab": {
          "base_uri": "https://localhost:8080/"
        },
        "id": "11QVs75_OEOi",
        "outputId": "92670032-1360-4068-faf9-5e6c9accb317"
      },
      "execution_count": 8,
      "outputs": [
        {
          "output_type": "stream",
          "name": "stdout",
          "text": [
            "Is the guess 151 too High (H), too Low (L), or Correct (C)? too Low\n",
            "Is the guess 792 too High (H), too Low (L), or Correct (C)? too High\n",
            "Is the guess 85 too High (H), too Low (L), or Correct (C)? C\n",
            "Awesome! The computer successfully guessed your number: 85!\n"
          ]
        }
      ]
    },
    {
      "cell_type": "markdown",
      "source": [
        "**Project_04**\n",
        "\n",
        "> Rock, paper, scissors Python Project"
      ],
      "metadata": {
        "id": "_tPcu2XaQKC8"
      }
    },
    {
      "cell_type": "code",
      "source": [
        "import random\n",
        "\n",
        "def start_game():\n",
        "    player_choice = input(\"Pick your move: ('m' for Muhammad, 't' for Tahir, 'h' for Hasni): \").lower()\n",
        "\n",
        "    while player_choice not in ['m', 't', 'h']:\n",
        "        print(\"Invalid input! Choose 'm', 't', or 'h'.\")\n",
        "        player_choice = input(\"Please try again: ('m' for Muhammad, 't' for Tahir, 'h' for Hasni): \").lower()\n",
        "\n",
        "    opponent_choice = random.choice(['m', 't', 'h'])\n",
        "    print(f\"The opponent picked: {opponent_choice}\")\n",
        "\n",
        "    if player_choice == opponent_choice:\n",
        "        return \"It's a draw!\"\n",
        "    if determine_winner(player_choice, opponent_choice):\n",
        "        return \"Congratulations, you win!\"\n",
        "    return \"Oops, you lost. Better luck next time!\"\n",
        "\n",
        "def determine_winner(player, opponent):\n",
        "    \"\"\"Returns True if player wins against opponent.\"\"\"\n",
        "    return (player == 'm' and opponent == 'h') or \\\n",
        "           (player == 'h' and opponent == 't') or \\\n",
        "           (player == 't' and opponent == 'm')\n",
        "\n",
        "# Keep the game running for multiple rounds\n",
        "while True:\n",
        "    print(start_game())\n",
        "    replay = input(\"Would you like to play again? (y/n): \").lower()\n",
        "    if replay != 'y':\n",
        "        print(\"Thank you for playing! See you next time!\")\n",
        "        break"
      ],
      "metadata": {
        "colab": {
          "base_uri": "https://localhost:8080/"
        },
        "id": "ed_BkmwjQUjA",
        "outputId": "b1e8e11b-3db9-4b38-8c33-5cb09e1568b8"
      },
      "execution_count": 10,
      "outputs": [
        {
          "output_type": "stream",
          "name": "stdout",
          "text": [
            "Pick your move: ('m' for Muhammad, 't' for Tahir, 'h' for Hasni): m\n",
            "The opponent picked: h\n",
            "Congratulations, you win!\n",
            "Would you like to play again? (y/n): y\n",
            "Pick your move: ('m' for Muhammad, 't' for Tahir, 'h' for Hasni): t\n",
            "The opponent picked: m\n",
            "Congratulations, you win!\n",
            "Would you like to play again? (y/n): y\n",
            "Pick your move: ('m' for Muhammad, 't' for Tahir, 'h' for Hasni): Tahir\n",
            "Invalid input! Choose 'm', 't', or 'h'.\n",
            "Please try again: ('m' for Muhammad, 't' for Tahir, 'h' for Hasni): h\n",
            "The opponent picked: t\n",
            "Congratulations, you win!\n",
            "Would you like to play again? (y/n): n\n",
            "Thank you for playing! See you next time!\n"
          ]
        }
      ]
    },
    {
      "cell_type": "markdown",
      "source": [
        "**Project_5**\n",
        "\n",
        "> Hangman Python Project"
      ],
      "metadata": {
        "id": "WawAwp4RSv2J"
      }
    },
    {
      "cell_type": "code",
      "source": [
        "import random\n",
        "import string\n",
        "\n",
        "items = [\n",
        "    \"pen\", \"notebook\", \"laptop\", \"keyboard\", \"mouse\", \"phone\", \"charger\", \"desk\", \"lamp\", \"tablet\",\n",
        "    \"headphones\", \"wallet\", \"backpack\", \"umbrella\", \"sunglasses\", \"watch\", \"earphones\", \"book\", \"charger\",\n",
        "    \"pillow\", \"blanket\", \"bottle\", \"thermos\", \"glasses\", \"calculator\", \"scissors\", \"calendar\", \"sticky notes\",\n",
        "    \"tape\", \"stapler\", \"folder\", \"clipboard\", \"photo frame\", \"lamp\", \"flashlight\", \"cushion\", \"glove\",\n",
        "    \"toothbrush\", \"toothpaste\", \"socks\", \"coat\", \"shoes\", \"hats\", \"glasses\", \"notepad\", \"marker\",\n",
        "    \"printer\", \"paperclip\", \"tissues\", \"pencil\", \"eraser\", \"sharpener\", \"luggage\", \"suitcase\", \"passport\",\n",
        "    \"ticket\", \"travel bag\", \"water bottle\", \"map\", \"wallet\", \"scarf\", \"sweater\", \"boots\", \"jacket\",\n",
        "    \"mug\", \"keychain\", \"earbuds\", \"flash drive\", \"external hard drive\", \"cleaner\", \"toothpick\", \"lotion\",\n",
        "    \"disinfectant\", \"cleaning wipes\", \"mousepad\", \"binder\", \"clip\", \"bookmark\", \"hairbrush\", \"comb\"\n",
        "]\n",
        "\n",
        "def pick_valid_item(items):\n",
        "    item = random.choice(items).lower()  # Ensure lowercase format\n",
        "    while '-' in item or ' ' in item:\n",
        "        item = random.choice(items).lower()\n",
        "    return item\n",
        "\n",
        "def hangman_game():\n",
        "    item = pick_valid_item(items)\n",
        "    item_letters = set(item)  # Collect unique letters from the item\n",
        "    alphabet = set(string.ascii_lowercase)  # Standard alphabet for consistency\n",
        "    guessed_letters = set()\n",
        "    lives = 6\n",
        "\n",
        "    print(\"\\nWelcome to the Hangman Challenge!\")\n",
        "\n",
        "    while len(item_letters) > 0 and lives > 0:\n",
        "        print(f\"\\nYou have {lives} lives remaining. Letters already guessed: {' '.join(guessed_letters)}\")\n",
        "\n",
        "        # Show the current progress of the word with underscores for missing letters\n",
        "        item_display = [letter if letter in guessed_letters else '_' for letter in item]\n",
        "        print(\"Current word: \", ' '.join(item_display))\n",
        "\n",
        "        user_guess = input(\"\\nGuess a letter: \").lower()\n",
        "\n",
        "        # Check if user input is valid\n",
        "        if len(user_guess) != 1 or user_guess not in alphabet:\n",
        "            print(\"Invalid input. Please guess a single valid letter.\")\n",
        "            lives -= 1  # Deduct a life for invalid input\n",
        "            continue  # Ask for input again if invalid\n",
        "\n",
        "        if user_guess in guessed_letters:\n",
        "            print(\"You've already guessed that letter.\")\n",
        "        else:\n",
        "            guessed_letters.add(user_guess)\n",
        "            if user_guess in item_letters:\n",
        "                item_letters.remove(user_guess)\n",
        "            else:\n",
        "                lives -= 1\n",
        "                print(\"Oops! Wrong guess.\")\n",
        "\n",
        "    # End of game outcome\n",
        "    if lives == 0:\n",
        "        print(f\"\\n💀 Game Over! The correct word was: {item}\")\n",
        "    else:\n",
        "        print(f\"\\n🎉 You did it! The word was: {item}\")\n",
        "\n",
        "# Start the game\n",
        "hangman_game()\n"
      ],
      "metadata": {
        "colab": {
          "base_uri": "https://localhost:8080/"
        },
        "id": "LD7gTxKhWpyT",
        "outputId": "f8436551-c39e-4772-f744-f258f0f59ad1"
      },
      "execution_count": 13,
      "outputs": [
        {
          "output_type": "stream",
          "name": "stdout",
          "text": [
            "\n",
            "Welcome to the Hangman Challenge!\n",
            "\n",
            "You have 6 lives remaining. Letters already guessed: \n",
            "Current word:  _ _ _ _ _\n",
            "\n",
            "Guess a letter: Paper\n",
            "Invalid input. Please guess a single valid letter.\n",
            "\n",
            "You have 5 lives remaining. Letters already guessed: \n",
            "Current word:  _ _ _ _ _\n",
            "\n",
            "Guess a letter: pen\n",
            "Invalid input. Please guess a single valid letter.\n",
            "\n",
            "You have 4 lives remaining. Letters already guessed: \n",
            "Current word:  _ _ _ _ _\n",
            "\n",
            "Guess a letter: map\n",
            "Invalid input. Please guess a single valid letter.\n",
            "\n",
            "You have 3 lives remaining. Letters already guessed: \n",
            "Current word:  _ _ _ _ _\n",
            "\n",
            "Guess a letter: water\n",
            "Invalid input. Please guess a single valid letter.\n",
            "\n",
            "You have 2 lives remaining. Letters already guessed: \n",
            "Current word:  _ _ _ _ _\n",
            "\n",
            "Guess a letter: keyboard\n",
            "Invalid input. Please guess a single valid letter.\n",
            "\n",
            "You have 1 lives remaining. Letters already guessed: \n",
            "Current word:  _ _ _ _ _\n",
            "\n",
            "Guess a letter: laptop\n",
            "Invalid input. Please guess a single valid letter.\n",
            "\n",
            "💀 Game Over! The correct word was: phone\n"
          ]
        }
      ]
    },
    {
      "cell_type": "markdown",
      "source": [
        "**Project_6**\n",
        "\n",
        "> Countdown Timer Python Project"
      ],
      "metadata": {
        "id": "diFfE4cwW9Ct"
      }
    },
    {
      "cell_type": "code",
      "source": [
        "import time\n",
        "import sys\n",
        "\n",
        "def start_timer(duration):\n",
        "    print(\"\\nThe timer is now active...\\n\")  # Message displayed when the timer starts\n",
        "\n",
        "    while duration >= 0:  # Ensure the timer reaches 00:00\n",
        "        minutes, seconds = divmod(duration, 60)\n",
        "        timer_display = f\"\\r{minutes:02d}:{seconds:02d}\"  # Use \\r to overwrite the line\n",
        "        sys.stdout.write(timer_display)\n",
        "        sys.stdout.flush()  # Ensures the timer is updated in the terminal\n",
        "        time.sleep(1)\n",
        "        duration -= 1\n",
        "\n",
        "    print(\"\\nTime's up!\")  # Final message after the timer finishes\n",
        "\n",
        "try:\n",
        "    duration_in_seconds = int(input(\"Enter the countdown duration in seconds: \"))\n",
        "    if duration_in_seconds < 0:\n",
        "        print(\"Please input a positive value.\")\n",
        "    else:\n",
        "        start_timer(duration_in_seconds)\n",
        "except ValueError:\n",
        "    print(\"Invalid input! Please enter a valid number.\")\n",
        "\n",
        "print(\"Thank you for using the timer!\")"
      ],
      "metadata": {
        "colab": {
          "base_uri": "https://localhost:8080/"
        },
        "id": "Z1dmS7y7XJFd",
        "outputId": "0ab97e94-159a-4de6-eeeb-81180de2df89"
      },
      "execution_count": 14,
      "outputs": [
        {
          "output_type": "stream",
          "name": "stdout",
          "text": [
            "Enter the countdown duration in seconds: 5\n",
            "\n",
            "The timer is now active...\n",
            "\n",
            "00:00\n",
            "Time's up!\n",
            "Thank you for using the timer!\n"
          ]
        }
      ]
    },
    {
      "cell_type": "markdown",
      "source": [
        "**Project_7**\n",
        "\n",
        "> Password Generator Python Project"
      ],
      "metadata": {
        "id": "C73ms0g4Xppa"
      }
    },
    {
      "cell_type": "code",
      "source": [
        "import random\n",
        "import string\n",
        "\n",
        "def generate_password(length=12, use_uppercase=True, use_digits=True, use_special_chars=True):\n",
        "    \"\"\"\n",
        "    Generates a random password based on user-defined criteria.\n",
        "\n",
        "    Args:\n",
        "    - length (int): The length of the password. Default is 12.\n",
        "    - use_uppercase (bool): Whether to include uppercase letters. Default is True.\n",
        "    - use_digits (bool): Whether to include digits. Default is True.\n",
        "    - use_special_chars (bool): Whether to include special characters. Default is True.\n",
        "\n",
        "    Returns:\n",
        "    - str: The generated password.\n",
        "    \"\"\"\n",
        "\n",
        "    # Create a pool of characters for the password\n",
        "    characters = string.ascii_lowercase\n",
        "    if use_uppercase:\n",
        "        characters += string.ascii_uppercase\n",
        "    if use_digits:\n",
        "        characters += string.digits\n",
        "    if use_special_chars:\n",
        "        characters += string.punctuation\n",
        "\n",
        "    # Generate the password\n",
        "    password = ''.join(random.choice(characters) for _ in range(length))\n",
        "    return password\n",
        "\n",
        "# Ask user for input (you can skip this in Google Colab and use hardcoded values)\n",
        "print(\"Password Generator\")\n",
        "while True:\n",
        "    try:\n",
        "        length = int(input(\"Enter the length of the password: \"))  # Get user input for password length\n",
        "        break  # Exit loop if input is valid\n",
        "    except ValueError:\n",
        "        print(\"Invalid input. Please enter a valid number for the password length.\")  # Print error message if input is invalid\n",
        "\n",
        "use_uppercase = input(\"Include uppercase letters? (y/n): \").lower() == 'y'\n",
        "use_digits = input(\"Include digits? (y/n): \").lower() == 'y'\n",
        "use_special_chars = input(\"Include special characters? (y/n): \").lower() == 'y'\n",
        "\n",
        "# Generate and display the password\n",
        "password = generate_password(length, use_uppercase, use_digits, use_special_chars)\n",
        "print(\"\\nGenerated Password:\", password)\n"
      ],
      "metadata": {
        "colab": {
          "base_uri": "https://localhost:8080/"
        },
        "id": "boZGyw7aX2jf",
        "outputId": "cd72a9a3-b3b4-4abb-fd00-19d3321e741d"
      },
      "execution_count": 18,
      "outputs": [
        {
          "output_type": "stream",
          "name": "stdout",
          "text": [
            "Password Generator\n",
            "Enter the length of the password: 8\n",
            "Include uppercase letters? (y/n): y\n",
            "Include digits? (y/n): y\n",
            "Include special characters? (y/n): y\n",
            "\n",
            "Generated Password: -ax>OczN\n"
          ]
        }
      ]
    }
  ]
}